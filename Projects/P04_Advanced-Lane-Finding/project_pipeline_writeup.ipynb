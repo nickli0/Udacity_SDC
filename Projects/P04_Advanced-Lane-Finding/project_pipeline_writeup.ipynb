{
 "cells": [
  {
   "cell_type": "markdown",
   "metadata": {
    "deletable": true,
    "editable": true
   },
   "source": [
    "# P4 - Advanced Lane Finding\n",
    "\n",
    "\n",
    "\n",
    "## Udacity / Self-Driving Car Nanodegree / Term1\n",
    "\n",
    "The Purpose of this project is to compose a pipeline to process lane lines, locate lane lines and find radius of curvature of the road with the provided video. The final output will have the sliding window indicating lanes overlaying the video.\n",
    "\n",
    "### Advanced Lane Finding Project\n",
    "\n",
    "The goals / steps of this project are the following:\n",
    "\n",
    "* Compute the camera calibration matrix and distortion coefficients given a set of chessboard images.\n",
    "* Apply a distortion correction to raw images.\n",
    "* Use color transforms, gradients, etc., to create a thresholded binary image.\n",
    "* Apply a perspective transform to rectify binary image (\"birds-eye view\").\n",
    "* Detect lane pixels and fit to find the lane boundary.\n",
    "* Determine the curvature of the lane and vehicle position with respect to center.\n",
    "* Warp the detected lane boundaries back onto the original image.\n",
    "* Output visual display of the lane boundaries and numerical estimation of lane curvature and vehicle position.\n",
    "\n",
    "\n",
    "\n",
    "\n",
    "## Rubric Points\n",
    "\n",
    "**Here I will consider the rubric points individually and describe how I addressed each point in my implementation.**\n",
    "\n",
    "\n",
    "### Writeup / README\n",
    "\n",
    "I have provided a writeup/README that serves as rubric points to address each point. Here is a writeup for this project serving as a guide and a starting points."
   ]
  },
  {
   "cell_type": "markdown",
   "metadata": {
    "deletable": true,
    "editable": true
   },
   "source": [
    "### Camera Calibration\n",
    "\n",
    "The code for this step is contained in the first code cell of the IPython notebook located in \"./project_pipeline.ipynb\". In the first part, denoted as \"1. Distortion Correction\", I have removed distortion from the images provided in \"./camera_cal/calibration*.jpg\".\n",
    "\n",
    "I start by preparing \"object points\", which will be the (x, y, z) coordinates of the chessboard corners in the world. Here I am assuming the chessboard is fixed on the (x, y) plane at z=0, such that the object points are the same for each calibration image. Thus, objpoints is a replicated array of coordinates, and objpoints will be appended with a copy of it every time I successfully detect all chessboard corners in a test image. imgpoints will be appended with the (x, y) pixel position of each of the corners in the image plane with each successful chessboard detection.\n",
    "\n",
    "I then used the output objpoints and imgpoints to compute the camera calibration and distortion coefficients using the cv2.calibrateCamera() function. I applied this distortion correction to the test image using the cv2.undistort() function and obtained this result:\n",
    "\n",
    "![](./project_pipeline_writeup/1.PNG)"
   ]
  },
  {
   "cell_type": "markdown",
   "metadata": {
    "deletable": true,
    "editable": true
   },
   "source": [
    "### Pipeline for Still Images\n",
    "\n",
    "**1. Provide an example of a distortion-corrected image.**\n",
    "\n",
    "To demonstrate this step, I will describe how I apply the distortion correction to one of the test images like this one: \n",
    "\n",
    "![](./project_pipeline_writeup/2.jpg)\n",
    "\n",
    "**2. Describe perspective transform and provide an example of a transformed image.**\n",
    "\n",
    "The code for my perspective transform includes a function called warpedimg(), which appears as the second block part in the file project_pipeline.py. The warpedimg() function takes as inputs an image (image), as well as source (src) and destination (dst) points. I chose the hardcode the source and destination points in the following manner:\n",
    "\n",
    "![](./project_pipeline_writeup/3.PNG)\n",
    "\n",
    "This resulted in the following source and destination points:\n",
    "\n",
    "![](./project_pipeline_writeup/4.PNG)\n",
    "\n",
    "I verified that my perspective transform was working as expected by drawing the src and dst points onto a test image and its warped counterpart to verify that the lines appear parallel in the warped image.\n",
    "\n",
    "![](./project_pipeline_writeup/5.PNG)\n",
    "\n",
    "**3. Describe color transforms, gradients or other methods to create a thresholded binary image. Provide an example of a binary image result.**\n",
    "\n",
    "I used a combination of color and gradient thresholds to generate a binary image (thresholding steps third block part of file project_pipeline.py). Here's an example of my output for this step. \n",
    "\n",
    "![](./project_pipeline_writeup/6.PNG)\n",
    "\n",
    "\n",
    "\n",
    "**4. Describe identified lane-line pixels and fit their positions with a polynomial?**\n",
    "\n",
    "Then I did some other stuff and fit my lane lines with a 2nd order polynomial kinda like this:\n",
    "\n",
    "![](./project_pipeline_writeup/7.PNG)\n",
    "\n",
    "**5. Describe calculated the radius of curvature of the lane and the position of the vehicle with respect to center.**\n",
    "\n",
    "I did this in 4th block part denoted as \"4. Still Image - Polyfit Lane Line, Determine Car Position and Calculate Radius of Curvature\" in my code in project_pipeline.py.\n",
    "\n",
    "**6. Provide an example image of result plotted back down onto the road such that the lane area is identified clearly.**\n",
    "\n",
    "I implemented this step in 4th block part denoted as \"4. Still Image - Polyfit Lane Line, Determine Car Position and Calculate Radius of Curvature\" in my code in project_pipeline.py in the function find_lane(). Here is an example of my result on a test image:\n",
    "\n",
    "![](./project_pipeline_writeup/8.PNG)"
   ]
  },
  {
   "cell_type": "markdown",
   "metadata": {
    "deletable": true,
    "editable": true
   },
   "source": [
    "### Pipeline for Provided Video\n",
    "\n",
    "Here is a link to the final video output. The pipeline should perform reasonably well on the entire project video (wobbly lines are ok but no catastrophic failures that would cause the car to drive off the road!).\n",
    "\n",
    "This is [the link to result video](https://github.com/nickli0/Udacity_SDC/blob/master/Projects/P04_Advanced-Lane-Finding/project_video_result.mp4)."
   ]
  },
  {
   "cell_type": "markdown",
   "metadata": {
    "deletable": true,
    "editable": true
   },
   "source": [
    "### Discussion\n",
    "\n",
    "**Briefly discuss any problems / issues faced in the implementation of this project. Where will the pipeline likely fail? What could be done to make it more robust?**\n",
    "\n",
    "Here I'll talk about the approach I took, what techniques I used, what worked and why, where the pipeline might fail and how I might improve it if I were going to pursue this project further.\n",
    "\n",
    "I had tried searches that would not rely what an exact peak for the lanes in the bottom part of an image. So I took all possible candidates for each 1/7th of an image, and iterated through all of them with returning better peaks first. This process took more time than initially expected due to certain features on the image. I also had tried to derive btter candidates for each of the 1/7th of an image. This approach did return better perfermance that the last one as the score of lanes stopped improving upward.\n",
    "\n",
    "If there are more time, I would like to trial the binary image combination process to make a better binary image for next step. Through trails of different colorspaces and channels, it should return a more detailed binary image for video processing. Also, I would pick a more accurate source and destination point for margining windows.\n",
    "\n",
    "Currently, this pipeline are likely to fail when there are two many shadow spots on road or the turn of road is too steep (radius of curvature is too small). Also, too much discoloration on road may overthrow the accuracy of this pipeline."
   ]
  }
 ],
 "metadata": {
  "kernelspec": {
   "display_name": "Python 3",
   "language": "python",
   "name": "python3"
  },
  "language_info": {
   "codemirror_mode": {
    "name": "ipython",
    "version": 3
   },
   "file_extension": ".py",
   "mimetype": "text/x-python",
   "name": "python",
   "nbconvert_exporter": "python",
   "pygments_lexer": "ipython3",
   "version": "3.5.2"
  },
  "widgets": {
   "state": {},
   "version": "1.1.2"
  }
 },
 "nbformat": 4,
 "nbformat_minor": 2
}
