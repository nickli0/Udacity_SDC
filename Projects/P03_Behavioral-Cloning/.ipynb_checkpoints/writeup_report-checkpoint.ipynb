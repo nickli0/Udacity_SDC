{
 "cells": [
  {
   "cell_type": "markdown",
   "metadata": {
    "collapsed": true,
    "deletable": true,
    "editable": true
   },
   "source": [
    "# Behavioral Cloning"
   ]
  },
  {
   "cell_type": "markdown",
   "metadata": {
    "deletable": true,
    "editable": true
   },
   "source": [
    "## Writeup Template\n",
    "\n",
    "**You can use this file as a template for your writeup if you want to submit it as a markdown file, but feel free to use some other method and submit a pdf if you prefer.**\n",
    "\n"
   ]
  },
  {
   "cell_type": "markdown",
   "metadata": {
    "deletable": true,
    "editable": true
   },
   "source": [
    "### Behavioral Cloning Project\n",
    "\n",
    "The goals / steps of this project are the following:\n",
    "\n",
    "* Use the simulator to collect data of good driving behavior\n",
    "\n",
    "* Build, a convolution neural network in Keras that predicts steering angles from images\n",
    "\n",
    "* Train and validate the model with a training and validation set\n",
    "\n",
    "* Test that the model successfully drives around track one without leaving the road\n",
    "\n",
    "* Summarize the results with a written report"
   ]
  },
  {
   "cell_type": "markdown",
   "metadata": {
    "deletable": true,
    "editable": true
   },
   "source": [
    "## Rubric Points\n",
    "\n",
    "**Here I will consider the rubric points individually and describe how I addressed each point in my implementation.**"
   ]
  },
  {
   "cell_type": "markdown",
   "metadata": {
    "deletable": true,
    "editable": true
   },
   "source": [
    "### Files Submitted & Code Quality\n",
    "\n",
    "**1.Submission includes all required files and can be used to run the simulator in autonomous mode**\n",
    "\n",
    "My project includes the following files:\n",
    "\n",
    "* model.py containing the script to create and train the model\n",
    "* drive.py for driving the car in autonomous mode\n",
    "* model.h5 containing a trained convolution neural network\n",
    "* writeup_report.md or writeup_report.pdf summarizing the results\n",
    "\n",
    "**2.Submission includes functional code**\n",
    "\n",
    "Using the Udacity provided simulator and my drive.py file, the car can be driven autonomously around the track by executing"
   ]
  },
  {
   "cell_type": "markdown",
   "metadata": {
    "deletable": true,
    "editable": true
   },
   "source": [
    "python drive.py model.json"
   ]
  },
  {
   "cell_type": "markdown",
   "metadata": {
    "deletable": true,
    "editable": true
   },
   "source": [
    "**3.Submission code is usable and readable**\n",
    "\n",
    "The model.py file contains the code for training and saving the convolution neural network. The file shows the pipeline I used for training and validating the model, and it contains comments to explain how the code works.\n",
    "\n",
    "### Model Architecture and Training Strategy\n",
    "\n",
    "**1.An appropriate model architecture has been employed  **\n",
    "\n",
    "My model consists of a convolution neural network with 3x3 filter sizes and depths between 24 and 64 (model.py lines 30-71)\n",
    "The model includes RELU layers to introduce nonlinearity (code line 36), and the data is normalized in the model using a Keras lambda layer (code line 33).\n",
    "\n",
    "**2.Attempts to reduce overfitting in the model **\n",
    "\n",
    "The model contains dropout layers in order to reduce overfitting (model.py lines 54).\n",
    "\n",
    "The model was trained and validated on different data sets to ensure that the model was not overfitting (code line 74-89). The model was tested by running it through the simulator and ensuring that the vehicle could stay on the track.\n",
    "\n",
    "**3.Model parameter tuning**\n",
    "\n",
    "The model used an adam optimizer, so the learning rate was not tuned manually (model.py line 69).\n",
    "\n",
    "**4.Appropriate training data**\n",
    "\n",
    "Training data was chosen to keep the vehicle driving on the road. I used a combination of center lane driving, recovering from the left and right sides of the road ...\n",
    "\n",
    "For details about how I created the training data, see the next section.\n",
    "\n",
    "### Model Architecture and Training Strategy\n",
    "\n",
    "**1.Solution Design Approach**\n",
    "\n",
    "The overall strategy for deriving a model architecture was to following the reference document on Nvidia model, which received lots of recognition.\n",
    "\n",
    "My first step was to use a convolution neural network model with 2-3 layers CNNs; however, these models with less CNNs interactions had fewer luck on producing a functional results. Then I had adopted the Nvidia model with more CNNs to explore with.\n",
    "\n",
    "In order to gauge how well the model was working, I split my image and steering angle data into a training and validation set. I found that my first model had a low mean squared error on the training set but a high mean squared error on the validation set. This implied that the model was overfitting.\n",
    "\n",
    "To combat the overfitting, I modified the model with Dropout keras function to reduce fitting on extreme data inputs.\n",
    "\n",
    "The final step was to run the simulator to see how well the car was driving around track one. There were a few spots where the vehicle riding along the track... to improve the driving behavior in these cases, I had put more effort on the input data, like image fliping and cropping.\n",
    "\n",
    "At the end of the process, the vehicle is able to drive autonomously around the track without leaving the road.\n",
    "\n",
    "**2.Final Model Architecture**\n",
    "\n",
    "The final model architecture (model.py lines 30-71) consisted of a convolution neural network with the following layers and layer sizes ...\n",
    "\n",
    "Here is a visualization of the architecture (note: visualizing the architecture is optional according to the project rubric)"
   ]
  },
  {
   "cell_type": "markdown",
   "metadata": {
    "collapsed": true,
    "deletable": true,
    "editable": true
   },
   "source": [
    "![](./writeup_report_images/1.PNG)"
   ]
  },
  {
   "cell_type": "markdown",
   "metadata": {
    "deletable": true,
    "editable": true
   },
   "source": [
    "**3.Creation of the Training Set & Training Process**\n",
    "\n",
    "To capture good driving behavior, I had used the recorded two laps on track one of center/left/right lane driving. Here is an example image of center lane driving:"
   ]
  },
  {
   "cell_type": "markdown",
   "metadata": {
    "collapsed": true,
    "deletable": true,
    "editable": true
   },
   "source": [
    "![](./writeup_report_images/2.jpg)"
   ]
  },
  {
   "cell_type": "markdown",
   "metadata": {
    "deletable": true,
    "editable": true
   },
   "source": [
    "I then recorded the vehicle recovering from the left side and right sides of the road back to center so that the vehicle would learn to adopte to all the view the cameras see. These images show what a recovery looks like starting from left and right cameras :"
   ]
  },
  {
   "cell_type": "markdown",
   "metadata": {
    "collapsed": true,
    "deletable": true,
    "editable": true
   },
   "source": [
    "![](./writeup_report_images/3.jpg)\n",
    "![](./writeup_report_images/4.jpg)"
   ]
  },
  {
   "cell_type": "markdown",
   "metadata": {
    "deletable": true,
    "editable": true
   },
   "source": [
    "Then I repeated this process on track two in order to get more data points.\n",
    "\n",
    "To augment the data sat, I also flipped images and angles thinking that this would furthuer provide more acuracy on steering angles especially when the car is at big curving road. For example, here is an image that has then been flipped:"
   ]
  },
  {
   "cell_type": "markdown",
   "metadata": {
    "collapsed": true,
    "deletable": true,
    "editable": true
   },
   "source": [
    "![](./writeup_report_images/5.PNG)"
   ]
  },
  {
   "cell_type": "markdown",
   "metadata": {
    "deletable": true,
    "editable": true
   },
   "source": [
    "After the collection process, I had 8036 (24,108 in center/left/right) number of data points. I then preprocessed this data by removing the biased zero data point which causing huge augmented problems.\n",
    "\n",
    "I finally randomly shuffled the data set and put 20% of the data into a validation set.\n",
    "\n",
    "I used Keras to train for the model. The validation set helped determine if the model was over or under fitting. The ideal number of epochs was Z as evidenced by 10 by reference and testing. I used an adam optimizer so that manually training the learning rate wasn't necessary."
   ]
  }
 ],
 "metadata": {
  "anaconda-cloud": {},
  "kernelspec": {
   "display_name": "Python [default]",
   "language": "python",
   "name": "python3"
  },
  "language_info": {
   "codemirror_mode": {
    "name": "ipython",
    "version": 3
   },
   "file_extension": ".py",
   "mimetype": "text/x-python",
   "name": "python",
   "nbconvert_exporter": "python",
   "pygments_lexer": "ipython3",
   "version": "3.5.2"
  }
 },
 "nbformat": 4,
 "nbformat_minor": 2
}
