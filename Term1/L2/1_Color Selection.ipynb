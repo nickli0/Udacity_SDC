{
 "cells": [
  {
   "cell_type": "code",
   "execution_count": null,
   "metadata": {
    "collapsed": true
   },
   "outputs": [],
   "source": [
    "import matplotlib.pyplot as plt\n",
    "import matplotlib.image as mpimg\n",
    "import numpy as np\n",
    "\n",
    "# Read in the image and print out some stats\n",
    "# imread returns PNG as Y * X * 3 array\n",
    "# Note: in the previous example we were reading a .jpg \n",
    "# Here we read a RGBA .png and convert to 0,255 bytescale RGB .jpg, then cast to unsigned int uint8 (0, 255)\n",
    "image = (mpimg.imread('test.png')*255).astype('uint8')\n",
    "print('This image is: ',type(image), \n",
    "         'with dimensions:', image.shape)\n",
    "\n",
    "# Grab the x and y size and make a copy of the image\n",
    "ysize = image.shape[0]\n",
    "xsize = image.shape[1]\n",
    "color_select = np.copy(image)\n",
    "\n",
    "# Define color selection criteria\n",
    "###### MODIFY THESE VARIABLES TO MAKE YOUR COLOR SELECTION\n",
    "red_threshold = 200\n",
    "green_threshold = 200\n",
    "blue_threshold = 200\n",
    "######\n",
    "\n",
    "rgb_threshold = [red_threshold, green_threshold, blue_threshold]\n",
    "\n",
    "# Do a boolean or with the \"|\" character to identify\n",
    "# pixels below the thresholds\n",
    "thresholds = (image[:,:,0] < rgb_threshold[0]) \\             # select all numbers below the threshold in R layer\n",
    "            | (image[:,:,1] < rgb_threshold[1]) \\            # select all numbers below the threshold in G layer\n",
    "            | (image[:,:,2] < rgb_threshold[2])              # select all numbers below the threshold in B layer\n",
    "color_select[thresholds] = [0,0,0]                           # set all selected RGB layers' numbers to 0\n",
    "plt.imshow(color_select)\n",
    "# Display the image                 \n",
    "plt.imshow(color_select)\n",
    "\n",
    "# Uncomment the following code if you are running the code locally and wish to save the image\n",
    "# mpimg.imsave(\"test-after.png\", color_select)\n"
   ]
  }
 ],
 "metadata": {
  "anaconda-cloud": {},
  "kernelspec": {
   "display_name": "Python [conda env:python35]",
   "language": "python",
   "name": "conda-env-python35-py"
  },
  "language_info": {
   "codemirror_mode": {
    "name": "ipython",
    "version": 3
   },
   "file_extension": ".py",
   "mimetype": "text/x-python",
   "name": "python",
   "nbconvert_exporter": "python",
   "pygments_lexer": "ipython3",
   "version": "3.5.2"
  }
 },
 "nbformat": 4,
 "nbformat_minor": 1
}
